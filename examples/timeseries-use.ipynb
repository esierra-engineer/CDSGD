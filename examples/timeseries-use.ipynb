{
 "cells": [
  {
   "metadata": {
    "ExecuteTime": {
     "end_time": "2025-06-13T21:58:16.285381Z",
     "start_time": "2025-06-13T21:58:16.282490Z"
    }
   },
   "cell_type": "code",
   "source": [
    "# Imports\n",
    "import pandas as pd\n",
    "from cdsgd import DSClustering\n",
    "from os.path import join\n",
    "from sklearn.preprocessing import OneHotEncoder\n",
    "import numpy as np"
   ],
   "id": "c0069ba2d291532e",
   "outputs": [],
   "execution_count": 187
  },
  {
   "metadata": {
    "ExecuteTime": {
     "end_time": "2025-06-13T21:58:16.369272Z",
     "start_time": "2025-06-13T21:58:16.317012Z"
    }
   },
   "cell_type": "code",
   "source": [
    "# Lectura de datos\n",
    "PATH = \"/home/erick/git/tesis-magister-dcc/data/processed/\"\n",
    "\n",
    "# series de tiempo\n",
    "output_df = pd.read_csv(join(PATH, \"output_df.csv\"), index_col=0, parse_dates=[\"datetime\",])\n",
    "\n",
    "# etiquetas kmeans por cliente\n",
    "labels = pd.read_csv(join(PATH, \"labels_df.csv\"), index_col=0)"
   ],
   "id": "2ef9633f7648670c",
   "outputs": [],
   "execution_count": 188
  },
  {
   "metadata": {
    "ExecuteTime": {
     "end_time": "2025-06-13T21:58:16.396362Z",
     "start_time": "2025-06-13T21:58:16.379253Z"
    }
   },
   "cell_type": "code",
   "source": [
    "output_df_copy = output_df.copy()\n",
    "output_df_copy[\"DOW\"] = output_df_copy[\"datetime\"].dt.dayofweek\n",
    "\n",
    "# transformar datos serie de tiempo a matriz\n",
    "data = (output_df_copy\n",
    " .merge(labels, on=\"key\")\n",
    " .pivot_table(columns=\"DOW\", values=\"value\", index=[\"key\", \"label\"], aggfunc=\"mean\", fill_value=-1)\n",
    " .reset_index()\n",
    " )"
   ],
   "id": "bf689db2db08dd02",
   "outputs": [],
   "execution_count": 189
  },
  {
   "metadata": {
    "ExecuteTime": {
     "end_time": "2025-06-13T21:58:16.438721Z",
     "start_time": "2025-06-13T21:58:16.436893Z"
    }
   },
   "cell_type": "code",
   "source": [
    "# las llaves de la muestra\n",
    "keys = data[[\"key\"]]\n",
    "\n",
    "# la etiqueta de kmeans es la variable a predecir\n",
    "y_custom = data[\"label\"]"
   ],
   "id": "96fd5240b0016a5f",
   "outputs": [],
   "execution_count": 190
  },
  {
   "metadata": {
    "ExecuteTime": {
     "end_time": "2025-06-13T21:58:16.506584Z",
     "start_time": "2025-06-13T21:58:16.500255Z"
    }
   },
   "cell_type": "code",
   "source": "data[[\"key\", \"label\"]].groupby(\"label\").agg(\"count\")",
   "id": "f41bd374fe8640ef",
   "outputs": [
    {
     "data": {
      "text/plain": [
       "DOW    key\n",
       "label     \n",
       "0      120\n",
       "1      133\n",
       "2       17"
      ],
      "text/html": [
       "<div>\n",
       "<style scoped>\n",
       "    .dataframe tbody tr th:only-of-type {\n",
       "        vertical-align: middle;\n",
       "    }\n",
       "\n",
       "    .dataframe tbody tr th {\n",
       "        vertical-align: top;\n",
       "    }\n",
       "\n",
       "    .dataframe thead th {\n",
       "        text-align: right;\n",
       "    }\n",
       "</style>\n",
       "<table border=\"1\" class=\"dataframe\">\n",
       "  <thead>\n",
       "    <tr style=\"text-align: right;\">\n",
       "      <th>DOW</th>\n",
       "      <th>key</th>\n",
       "    </tr>\n",
       "    <tr>\n",
       "      <th>label</th>\n",
       "      <th></th>\n",
       "    </tr>\n",
       "  </thead>\n",
       "  <tbody>\n",
       "    <tr>\n",
       "      <th>0</th>\n",
       "      <td>120</td>\n",
       "    </tr>\n",
       "    <tr>\n",
       "      <th>1</th>\n",
       "      <td>133</td>\n",
       "    </tr>\n",
       "    <tr>\n",
       "      <th>2</th>\n",
       "      <td>17</td>\n",
       "    </tr>\n",
       "  </tbody>\n",
       "</table>\n",
       "</div>"
      ]
     },
     "execution_count": 191,
     "metadata": {},
     "output_type": "execute_result"
    }
   ],
   "execution_count": 191
  },
  {
   "metadata": {
    "ExecuteTime": {
     "end_time": "2025-06-13T21:58:16.584492Z",
     "start_time": "2025-06-13T21:58:16.582702Z"
    }
   },
   "cell_type": "code",
   "source": [
    "\n",
    "# la matriz de features es la matriz de serie de tiempo\n",
    "X_custom = data.drop(columns=[\"label\", \"key\"])\n",
    "#X_custom.columns = [f\"Day_{i}\" for i in range(0, 7)]\n",
    "X_custom.columns = [\"Monday\", \"Tuesday\", \"Wednesday\", \"Thursday\", \"Friday\", \"Saturday\", \"Sunday\"]"
   ],
   "id": "f3b70bd1ae383fd2",
   "outputs": [],
   "execution_count": 192
  },
  {
   "metadata": {
    "ExecuteTime": {
     "end_time": "2025-06-13T21:58:16.754295Z",
     "start_time": "2025-06-13T21:58:16.660084Z"
    }
   },
   "cell_type": "code",
   "source": [
    "# agregar informacion de Comuna y Alimentador por cliente como OneHotEncoder\n",
    "\n",
    "# lectura de datos de comuna y alimentador\n",
    "key_comuna = pd.read_csv(join(PATH, \"key_comuna_feeder.csv\"),\n",
    "                         index_col=0, dtype={\"nro_medidor\": str}\n",
    "                         ).rename(columns={\"nro_medidor\": \"key\"})\n",
    "\n",
    "# agregar metodo a la clase (compatibilidad)\n",
    "def set_output(self, *, transform=None):\n",
    "    \"\"\"Set output container.\n",
    "\n",
    "    See :ref:`sphx_glr_auto_examples_miscellaneous_plot_set_output.py`\n",
    "    for an example on how to use the API.\n",
    "\n",
    "    Parameters\n",
    "    ----------\n",
    "    transform : {\"default\", \"pandas\", \"polars\"}, default=None\n",
    "        Configure output of `transform` and `fit_transform`.\n",
    "\n",
    "        - `\"default\"`: Default output format of a transformer\n",
    "        - `\"pandas\"`: DataFrame output\n",
    "        - `\"polars\"`: Polars output\n",
    "        - `None`: Transform configuration is unchanged\n",
    "\n",
    "        .. versionadded:: 1.4\n",
    "            `\"polars\"` option was added.\n",
    "\n",
    "    Returns\n",
    "    -------\n",
    "    self : estimator instance\n",
    "        Estimator instance.\n",
    "    \"\"\"\n",
    "    if transform is None:\n",
    "        return self\n",
    "\n",
    "    if not hasattr(self, \"_sklearn_output_config\"):\n",
    "        self._sklearn_output_config = {}\n",
    "\n",
    "    self._sklearn_output_config[\"transform\"] = transform\n",
    "    return self\n",
    "\n",
    "OneHotEncoder.set_output = set_output\n",
    "\n",
    "# crear OneHotEncoder\n",
    "encoder = OneHotEncoder(sparse=False).set_output(transform=\"pandas\")"
   ],
   "id": "32c9c3ab77600994",
   "outputs": [],
   "execution_count": 193
  },
  {
   "metadata": {
    "ExecuteTime": {
     "end_time": "2025-06-13T21:58:16.771772Z",
     "start_time": "2025-06-13T21:58:16.770172Z"
    }
   },
   "cell_type": "code",
   "source": [
    "# modificar tipo de columna\n",
    "keys[\"key\"] = keys[\"key\"].astype(str)"
   ],
   "id": "c74c9906527414e0",
   "outputs": [
    {
     "name": "stderr",
     "output_type": "stream",
     "text": [
      "/tmp/ipykernel_404846/3676680826.py:2: SettingWithCopyWarning: \n",
      "A value is trying to be set on a copy of a slice from a DataFrame.\n",
      "Try using .loc[row_indexer,col_indexer] = value instead\n",
      "\n",
      "See the caveats in the documentation: https://pandas.pydata.org/pandas-docs/stable/user_guide/indexing.html#returning-a-view-versus-a-copy\n",
      "  keys[\"key\"] = keys[\"key\"].astype(str)\n"
     ]
    }
   ],
   "execution_count": 194
  },
  {
   "metadata": {
    "ExecuteTime": {
     "end_time": "2025-06-13T21:58:16.865255Z",
     "start_time": "2025-06-13T21:58:16.827598Z"
    }
   },
   "cell_type": "code",
   "source": [
    "# OneHotEncoding de comuna y feeder para cada key\n",
    "# data_encoded = encoder.fit_transform(keys.merge(key_comuna, on=\"key\", how=\"inner\")[[\"comuna\", \"feeder\"]])"
   ],
   "id": "566a9102856cd97",
   "outputs": [],
   "execution_count": 195
  },
  {
   "metadata": {
    "ExecuteTime": {
     "end_time": "2025-06-13T21:58:16.882209Z",
     "start_time": "2025-06-13T21:58:16.880558Z"
    }
   },
   "cell_type": "code",
   "source": [
    "## agregar a la matriz de caracteristicas el OneHotEncoding (simplemente unir lado a lado)\n",
    "# X_custom = pd.concat([X_custom, pd.DataFrame(data_encoded)], axis=1, ignore_index=True)"
   ],
   "id": "f9dd5d178f048973",
   "outputs": [],
   "execution_count": 196
  },
  {
   "metadata": {
    "ExecuteTime": {
     "end_time": "2025-06-13T22:01:10.087370Z",
     "start_time": "2025-06-13T21:58:16.954754Z"
    }
   },
   "cell_type": "code",
   "source": [
    "print(\"DSClustering begin\")\n",
    "print(f\"Dimensions: {X_custom.shape}\")\n",
    "\n",
    "# Instantiate DSClustering\n",
    "# Form 1 - Default instantiation with just the feature matrix\n",
    "# ds1 = DSClustering(X_custom, max_iter=1000)\n",
    "# Form 2 - Instantiation with a parameter to consider the most voted features\n",
    "# ds2 = DSClustering(X_custom, most_voted=True, max_iter=1000)\n",
    "# Form 3 - Instantiation with a numeric parameter\n",
    "ds3 = DSClustering(X_custom)\n",
    "\n",
    "# Apply the method to generate categorical rules\n",
    "# ds1.generate_categorical_rules()  # Generate rules for the first instance\n",
    "# ds2.generate_categorical_rules()  # Generate rules for the second instance\n",
    "ds3.generate_categorical_rules()  # Generate rules for the third instance\n",
    "\n",
    "# Apply the predict method (internally finalizes the classification model)\n",
    "# labels1 = ds1.predict()  # Predict labels using the first set of rules\n",
    "# labels2 = ds2.predict()  # Predict labels using the second set of rules\n",
    "labels3 = ds3.predict()  # Predict labels using the third set of rules\n",
    "\n",
    "# Apply the method to print the most important rules\n",
    "# ds1.print_most_important_rules()  # Print rules from the first model\n",
    "# ds2.print_most_important_rules()  # Print rules from the second model\n",
    "ds3.print_most_important_rules()  # Print rules from the third model\n",
    "\n",
    "# Apply the method to print metrics\n",
    "# is needed to encode y_custom to be use in this method\n",
    "# ds1.metrics()  # Print metrics for the first model\n",
    "# ds2.metrics()  # Print metrics for the second model\n",
    "ds3.metrics()  # Print metrics for the third model\n"
   ],
   "id": "ceb4900e9662e804",
   "outputs": [
    {
     "name": "stdout",
     "output_type": "stream",
     "text": [
      "DSClustering begin\n",
      "Dimensions: (270, 185)\n",
      "Optimization started\n",
      "Processing epoch\t32\t0.1875\t\n",
      "Training time: 165.92s, epochs: 52\n",
      "\n",
      "Least training loss reached: 0.188\n",
      "\n",
      "\n",
      "Most important rules for Cluster 0\n",
      "\n",
      "Most important rules for Cluster 1\n",
      "\n",
      "Most important rules for Cluster 2\n",
      "\n",
      "Most important rules for Cluster 3\n",
      "------------------------------------------------\n",
      "Silhoutte:  0\n"
     ]
    }
   ],
   "execution_count": 197
  }
 ],
 "metadata": {},
 "nbformat": 4,
 "nbformat_minor": 5
}
